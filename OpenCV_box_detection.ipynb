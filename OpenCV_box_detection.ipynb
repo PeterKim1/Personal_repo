{
 "cells": [
  {
   "cell_type": "code",
   "execution_count": null,
   "metadata": {},
   "outputs": [],
   "source": [
    "src = cv2.imread('****.jpg')\n",
    "gray = cv2.cvtColor(src, cv2.COLOR_BGR2GRAY)\n",
    "src = cv2.cvtColor(src, cv2.COLOR_BGR2RGB)\n",
    "ret, bimage = cv2.threshold(gray, 110, 255, cv2.THRESH_BINARY)\n",
    "bimage = cv2.dilate(bimage, None)\n",
    "\n",
    "mode = cv2.RETR_EXTERNAL\n",
    "method = cv2.CHAIN_APPROX_SIMPLE\n",
    "contours, hierarchy = cv2.findContours(bimage,mode,method)\n",
    "print('len(contorus)=',len(contours))\n",
    "\n",
    "maxLength=0\n",
    "k=0\n",
    "for i,cnt in enumerate(contours):\n",
    "    perimeter = cv2.arcLength(cnt,closed=True)\n",
    "    if perimeter > maxLength:\n",
    "        maxLength = perimeter\n",
    "        k=i\n",
    "print('maxLength=',maxLength)\n",
    "cnt = contours[k]\n",
    "dst2 = src.copy()\n",
    "\n",
    "area = cv2.contourArea(cnt)\n",
    "print('area=',area)\n",
    "x,y,width,height = cv2.boundingRect(cnt)\n",
    "print(x, y, width, height)\n",
    "dst3 = dst2.copy()\n",
    "cv2.rectangle(dst3,(x,y),(x+width,y+height),(255,0,0), 10)\n",
    "\n",
    "dst4 = src.copy()\n",
    "dst4 = dst4[y:y+height, x:x+width]\n",
    "\n",
    "plt.figure(figsize = (15, 15))\n",
    "\n",
    "imgae1 = plt.subplot(1, 4, 1)\n",
    "imgae1.set_title(\"Original\")\n",
    "plt.axis('off')\n",
    "plt.imshow(src)\n",
    "\n",
    "imgae2 = plt.subplot(1, 4, 2)\n",
    "imgae2.set_title('Binary image')\n",
    "plt.axis('off')\n",
    "plt.imshow(bimage, cmap = 'gray')\n",
    "\n",
    "imgae3 = plt.subplot(1, 4, 3)\n",
    "imgae3.set_title('Box Image')\n",
    "plt.axis('off')\n",
    "plt.imshow(dst3)\n",
    "\n",
    "imgae4 = plt.subplot(1, 4, 4)\n",
    "imgae4.set_title('Trimmed Image')\n",
    "plt.axis('off')\n",
    "plt.imshow(dst4)\n",
    "\n",
    "plt.show()"
   ]
  }
 ],
 "metadata": {
  "kernelspec": {
   "display_name": "Python 3",
   "language": "python",
   "name": "python3"
  },
  "language_info": {
   "codemirror_mode": {
    "name": "ipython",
    "version": 3
   },
   "file_extension": ".py",
   "mimetype": "text/x-python",
   "name": "python",
   "nbconvert_exporter": "python",
   "pygments_lexer": "ipython3",
   "version": "3.7.5"
  }
 },
 "nbformat": 4,
 "nbformat_minor": 4
}
